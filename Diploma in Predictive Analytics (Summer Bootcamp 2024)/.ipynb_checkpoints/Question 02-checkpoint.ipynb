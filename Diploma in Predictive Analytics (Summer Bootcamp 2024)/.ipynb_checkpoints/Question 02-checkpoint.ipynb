{
 "cells": [
  {
   "cell_type": "markdown",
   "id": "2cce4a69-1628-47ab-817a-24071f1ec7f0",
   "metadata": {},
   "source": [
    "# Question 2:\n",
    "\n",
    "Perform 2 Regression models. You must use your information to make certain predictions in the end and decide which model is better. Justify your selection. Provide a summary of your findings, including insights into the topic and the model's performance. "
   ]
  },
  {
   "cell_type": "code",
   "execution_count": null,
   "id": "653587f2-8fbd-416f-a6ea-67d0efdfcb5d",
   "metadata": {},
   "outputs": [],
   "source": []
  }
 ],
 "metadata": {
  "kernelspec": {
   "display_name": "Python 3 (ipykernel)",
   "language": "python",
   "name": "python3"
  },
  "language_info": {
   "codemirror_mode": {
    "name": "ipython",
    "version": 3
   },
   "file_extension": ".py",
   "mimetype": "text/x-python",
   "name": "python",
   "nbconvert_exporter": "python",
   "pygments_lexer": "ipython3",
   "version": "3.12.3"
  }
 },
 "nbformat": 4,
 "nbformat_minor": 5
}
