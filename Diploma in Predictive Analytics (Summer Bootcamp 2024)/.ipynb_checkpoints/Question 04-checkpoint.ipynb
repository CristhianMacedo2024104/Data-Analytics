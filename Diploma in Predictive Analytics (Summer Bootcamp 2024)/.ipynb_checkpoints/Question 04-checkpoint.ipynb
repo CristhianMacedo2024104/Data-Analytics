{
 "cells": [
  {
   "cell_type": "markdown",
   "id": "2df48d8d-5824-4033-a05d-df66063de7ac",
   "metadata": {},
   "source": [
    "# Question 4:\n",
    "\n",
    "Place a recommendation system and identify 3 possible recommendations for 3 random customers."
   ]
  },
  {
   "cell_type": "code",
   "execution_count": null,
   "id": "d7ec4279-0a1e-4d02-b394-4022f6e905b1",
   "metadata": {},
   "outputs": [],
   "source": []
  }
 ],
 "metadata": {
  "kernelspec": {
   "display_name": "Python 3 (ipykernel)",
   "language": "python",
   "name": "python3"
  },
  "language_info": {
   "codemirror_mode": {
    "name": "ipython",
    "version": 3
   },
   "file_extension": ".py",
   "mimetype": "text/x-python",
   "name": "python",
   "nbconvert_exporter": "python",
   "pygments_lexer": "ipython3",
   "version": "3.12.3"
  }
 },
 "nbformat": 4,
 "nbformat_minor": 5
}
