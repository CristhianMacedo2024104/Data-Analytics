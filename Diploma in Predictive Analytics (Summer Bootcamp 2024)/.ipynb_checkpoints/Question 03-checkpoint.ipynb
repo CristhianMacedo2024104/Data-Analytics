{
 "cells": [
  {
   "cell_type": "markdown",
   "id": "11ed1217-9d42-445c-9e7c-ead33dbfb4f6",
   "metadata": {},
   "source": [
    "# Question 3:\n",
    "\n",
    "Apply two appropriate time series model to the data. Justify your choice relating it to the data that you have. Make one-step-ahead forecasts of the last 10 observations. Accompany the analysis with the appropriate visualisations that will help to identify trends/patterns/anomaly. Do some research and explain the challenges of forecasting. Summarise your findings and the efficiency of the model. "
   ]
  },
  {
   "cell_type": "code",
   "execution_count": null,
   "id": "dfbedb0c-d3ea-4d2d-9809-a5c35e830019",
   "metadata": {},
   "outputs": [],
   "source": []
  }
 ],
 "metadata": {
  "kernelspec": {
   "display_name": "Python 3 (ipykernel)",
   "language": "python",
   "name": "python3"
  },
  "language_info": {
   "codemirror_mode": {
    "name": "ipython",
    "version": 3
   },
   "file_extension": ".py",
   "mimetype": "text/x-python",
   "name": "python",
   "nbconvert_exporter": "python",
   "pygments_lexer": "ipython3",
   "version": "3.12.3"
  }
 },
 "nbformat": 4,
 "nbformat_minor": 5
}
