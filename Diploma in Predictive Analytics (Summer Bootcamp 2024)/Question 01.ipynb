{
 "cells": [
  {
   "cell_type": "markdown",
   "id": "26034db0-e2a3-451f-90d4-b8c35aeeec46",
   "metadata": {},
   "source": [
    "### Diploma in Predictive Analytics (Summer Bootcamp 2024)\n",
    "#### Author: Cristhian Macedo - 2024104\n",
    "[GitHub Repository](https://github.com/CristhianMacedo2024104/Data-Analytics)"
   ]
  },
  {
   "cell_type": "markdown",
   "id": "b8391f85-8ab3-4154-910a-1bab5a42dced",
   "metadata": {},
   "source": [
    "# Question 1:\n",
    "\n",
    "Use your data to perform a clustering model. Justify the choice of your algorithm and add the column with the outcome on the dataset to perform two classification models. Determine which one would be the best one in this case. Summarize your findings, discussing the model's performance and any insights gained from the analysis."
   ]
  },
  {
   "cell_type": "markdown",
   "id": "e922eb21-610b-4c77-99a5-95b023b09287",
   "metadata": {},
   "source": [
    "## Importing Libraries"
   ]
  },
  {
   "cell_type": "code",
   "execution_count": 1,
   "id": "6ef4285c-0ea9-4e35-8be4-0f69d3d46f42",
   "metadata": {},
   "outputs": [],
   "source": [
    "import pandas as pd\n",
    "import matplotlib.pyplot as plt\n",
    "import warnings\n",
    "\n",
    "warnings.filterwarnings('ignore')"
   ]
  },
  {
   "cell_type": "markdown",
   "id": "d18b36f9-e452-4ddd-88b6-e0a070babc12",
   "metadata": {},
   "source": [
    "## Loading Data "
   ]
  },
  {
   "cell_type": "code",
   "execution_count": 2,
   "id": "2d098a77-e7b9-4dce-ae2f-5833bc4178a6",
   "metadata": {},
   "outputs": [],
   "source": [
    "df = pd.read_excel(\"Q1-DryBean/Dry_Bean_Dataset.xlsx\")"
   ]
  },
  {
   "cell_type": "markdown",
   "id": "d566b89f-9962-4858-81dd-815092598fb8",
   "metadata": {},
   "source": [
    "## Inspecting the Data Set"
   ]
  },
  {
   "cell_type": "code",
   "execution_count": 3,
   "id": "7d2d22b8-c0c4-4f87-ab70-b8af3e342620",
   "metadata": {},
   "outputs": [
    {
     "data": {
      "text/html": [
       "<div>\n",
       "<style scoped>\n",
       "    .dataframe tbody tr th:only-of-type {\n",
       "        vertical-align: middle;\n",
       "    }\n",
       "\n",
       "    .dataframe tbody tr th {\n",
       "        vertical-align: top;\n",
       "    }\n",
       "\n",
       "    .dataframe thead th {\n",
       "        text-align: right;\n",
       "    }\n",
       "</style>\n",
       "<table border=\"1\" class=\"dataframe\">\n",
       "  <thead>\n",
       "    <tr style=\"text-align: right;\">\n",
       "      <th></th>\n",
       "      <th>Area</th>\n",
       "      <th>Perimeter</th>\n",
       "      <th>MajorAxisLength</th>\n",
       "      <th>MinorAxisLength</th>\n",
       "      <th>AspectRation</th>\n",
       "      <th>Eccentricity</th>\n",
       "      <th>ConvexArea</th>\n",
       "      <th>EquivDiameter</th>\n",
       "      <th>Extent</th>\n",
       "      <th>Solidity</th>\n",
       "      <th>roundness</th>\n",
       "      <th>Compactness</th>\n",
       "      <th>ShapeFactor1</th>\n",
       "      <th>ShapeFactor2</th>\n",
       "      <th>ShapeFactor3</th>\n",
       "      <th>ShapeFactor4</th>\n",
       "      <th>Class</th>\n",
       "    </tr>\n",
       "  </thead>\n",
       "  <tbody>\n",
       "    <tr>\n",
       "      <th>0</th>\n",
       "      <td>28395</td>\n",
       "      <td>610.291</td>\n",
       "      <td>208.178117</td>\n",
       "      <td>173.888747</td>\n",
       "      <td>1.197191</td>\n",
       "      <td>0.549812</td>\n",
       "      <td>28715</td>\n",
       "      <td>190.141097</td>\n",
       "      <td>0.763923</td>\n",
       "      <td>0.988856</td>\n",
       "      <td>0.958027</td>\n",
       "      <td>0.913358</td>\n",
       "      <td>0.007332</td>\n",
       "      <td>0.003147</td>\n",
       "      <td>0.834222</td>\n",
       "      <td>0.998724</td>\n",
       "      <td>SEKER</td>\n",
       "    </tr>\n",
       "    <tr>\n",
       "      <th>1</th>\n",
       "      <td>28734</td>\n",
       "      <td>638.018</td>\n",
       "      <td>200.524796</td>\n",
       "      <td>182.734419</td>\n",
       "      <td>1.097356</td>\n",
       "      <td>0.411785</td>\n",
       "      <td>29172</td>\n",
       "      <td>191.272750</td>\n",
       "      <td>0.783968</td>\n",
       "      <td>0.984986</td>\n",
       "      <td>0.887034</td>\n",
       "      <td>0.953861</td>\n",
       "      <td>0.006979</td>\n",
       "      <td>0.003564</td>\n",
       "      <td>0.909851</td>\n",
       "      <td>0.998430</td>\n",
       "      <td>SEKER</td>\n",
       "    </tr>\n",
       "    <tr>\n",
       "      <th>2</th>\n",
       "      <td>29380</td>\n",
       "      <td>624.110</td>\n",
       "      <td>212.826130</td>\n",
       "      <td>175.931143</td>\n",
       "      <td>1.209713</td>\n",
       "      <td>0.562727</td>\n",
       "      <td>29690</td>\n",
       "      <td>193.410904</td>\n",
       "      <td>0.778113</td>\n",
       "      <td>0.989559</td>\n",
       "      <td>0.947849</td>\n",
       "      <td>0.908774</td>\n",
       "      <td>0.007244</td>\n",
       "      <td>0.003048</td>\n",
       "      <td>0.825871</td>\n",
       "      <td>0.999066</td>\n",
       "      <td>SEKER</td>\n",
       "    </tr>\n",
       "    <tr>\n",
       "      <th>3</th>\n",
       "      <td>30008</td>\n",
       "      <td>645.884</td>\n",
       "      <td>210.557999</td>\n",
       "      <td>182.516516</td>\n",
       "      <td>1.153638</td>\n",
       "      <td>0.498616</td>\n",
       "      <td>30724</td>\n",
       "      <td>195.467062</td>\n",
       "      <td>0.782681</td>\n",
       "      <td>0.976696</td>\n",
       "      <td>0.903936</td>\n",
       "      <td>0.928329</td>\n",
       "      <td>0.007017</td>\n",
       "      <td>0.003215</td>\n",
       "      <td>0.861794</td>\n",
       "      <td>0.994199</td>\n",
       "      <td>SEKER</td>\n",
       "    </tr>\n",
       "    <tr>\n",
       "      <th>4</th>\n",
       "      <td>30140</td>\n",
       "      <td>620.134</td>\n",
       "      <td>201.847882</td>\n",
       "      <td>190.279279</td>\n",
       "      <td>1.060798</td>\n",
       "      <td>0.333680</td>\n",
       "      <td>30417</td>\n",
       "      <td>195.896503</td>\n",
       "      <td>0.773098</td>\n",
       "      <td>0.990893</td>\n",
       "      <td>0.984877</td>\n",
       "      <td>0.970516</td>\n",
       "      <td>0.006697</td>\n",
       "      <td>0.003665</td>\n",
       "      <td>0.941900</td>\n",
       "      <td>0.999166</td>\n",
       "      <td>SEKER</td>\n",
       "    </tr>\n",
       "  </tbody>\n",
       "</table>\n",
       "</div>"
      ],
      "text/plain": [
       "    Area  Perimeter  MajorAxisLength  MinorAxisLength  AspectRation  \\\n",
       "0  28395    610.291       208.178117       173.888747      1.197191   \n",
       "1  28734    638.018       200.524796       182.734419      1.097356   \n",
       "2  29380    624.110       212.826130       175.931143      1.209713   \n",
       "3  30008    645.884       210.557999       182.516516      1.153638   \n",
       "4  30140    620.134       201.847882       190.279279      1.060798   \n",
       "\n",
       "   Eccentricity  ConvexArea  EquivDiameter    Extent  Solidity  roundness  \\\n",
       "0      0.549812       28715     190.141097  0.763923  0.988856   0.958027   \n",
       "1      0.411785       29172     191.272750  0.783968  0.984986   0.887034   \n",
       "2      0.562727       29690     193.410904  0.778113  0.989559   0.947849   \n",
       "3      0.498616       30724     195.467062  0.782681  0.976696   0.903936   \n",
       "4      0.333680       30417     195.896503  0.773098  0.990893   0.984877   \n",
       "\n",
       "   Compactness  ShapeFactor1  ShapeFactor2  ShapeFactor3  ShapeFactor4  Class  \n",
       "0     0.913358      0.007332      0.003147      0.834222      0.998724  SEKER  \n",
       "1     0.953861      0.006979      0.003564      0.909851      0.998430  SEKER  \n",
       "2     0.908774      0.007244      0.003048      0.825871      0.999066  SEKER  \n",
       "3     0.928329      0.007017      0.003215      0.861794      0.994199  SEKER  \n",
       "4     0.970516      0.006697      0.003665      0.941900      0.999166  SEKER  "
      ]
     },
     "execution_count": 3,
     "metadata": {},
     "output_type": "execute_result"
    }
   ],
   "source": [
    "df.head()"
   ]
  },
  {
   "cell_type": "code",
   "execution_count": 4,
   "id": "5a7e39bc-d4c2-4d49-9e4b-c0995e87f751",
   "metadata": {},
   "outputs": [
    {
     "data": {
      "text/plain": [
       "(13611, 17)"
      ]
     },
     "execution_count": 4,
     "metadata": {},
     "output_type": "execute_result"
    }
   ],
   "source": [
    "df.shape"
   ]
  },
  {
   "cell_type": "code",
   "execution_count": 5,
   "id": "dbda895d-81a0-4d1d-be33-d40ba073fe14",
   "metadata": {},
   "outputs": [
    {
     "name": "stdout",
     "output_type": "stream",
     "text": [
      "<class 'pandas.core.frame.DataFrame'>\n",
      "RangeIndex: 13611 entries, 0 to 13610\n",
      "Data columns (total 17 columns):\n",
      " #   Column           Non-Null Count  Dtype  \n",
      "---  ------           --------------  -----  \n",
      " 0   Area             13611 non-null  int64  \n",
      " 1   Perimeter        13611 non-null  float64\n",
      " 2   MajorAxisLength  13611 non-null  float64\n",
      " 3   MinorAxisLength  13611 non-null  float64\n",
      " 4   AspectRation     13611 non-null  float64\n",
      " 5   Eccentricity     13611 non-null  float64\n",
      " 6   ConvexArea       13611 non-null  int64  \n",
      " 7   EquivDiameter    13611 non-null  float64\n",
      " 8   Extent           13611 non-null  float64\n",
      " 9   Solidity         13611 non-null  float64\n",
      " 10  roundness        13611 non-null  float64\n",
      " 11  Compactness      13611 non-null  float64\n",
      " 12  ShapeFactor1     13611 non-null  float64\n",
      " 13  ShapeFactor2     13611 non-null  float64\n",
      " 14  ShapeFactor3     13611 non-null  float64\n",
      " 15  ShapeFactor4     13611 non-null  float64\n",
      " 16  Class            13611 non-null  object \n",
      "dtypes: float64(14), int64(2), object(1)\n",
      "memory usage: 1.8+ MB\n"
     ]
    }
   ],
   "source": [
    "df.info()"
   ]
  },
  {
   "cell_type": "code",
   "execution_count": 6,
   "id": "838beca6-8bba-4776-aa10-c768f6e5041d",
   "metadata": {},
   "outputs": [
    {
     "data": {
      "text/html": [
       "<div>\n",
       "<style scoped>\n",
       "    .dataframe tbody tr th:only-of-type {\n",
       "        vertical-align: middle;\n",
       "    }\n",
       "\n",
       "    .dataframe tbody tr th {\n",
       "        vertical-align: top;\n",
       "    }\n",
       "\n",
       "    .dataframe thead th {\n",
       "        text-align: right;\n",
       "    }\n",
       "</style>\n",
       "<table border=\"1\" class=\"dataframe\">\n",
       "  <thead>\n",
       "    <tr style=\"text-align: right;\">\n",
       "      <th></th>\n",
       "      <th>count</th>\n",
       "      <th>mean</th>\n",
       "      <th>std</th>\n",
       "      <th>min</th>\n",
       "      <th>25%</th>\n",
       "      <th>50%</th>\n",
       "      <th>75%</th>\n",
       "      <th>max</th>\n",
       "    </tr>\n",
       "  </thead>\n",
       "  <tbody>\n",
       "    <tr>\n",
       "      <th>Area</th>\n",
       "      <td>13611.0</td>\n",
       "      <td>53048.284549</td>\n",
       "      <td>29324.095717</td>\n",
       "      <td>20420.000000</td>\n",
       "      <td>36328.000000</td>\n",
       "      <td>44652.000000</td>\n",
       "      <td>61332.000000</td>\n",
       "      <td>254616.000000</td>\n",
       "    </tr>\n",
       "    <tr>\n",
       "      <th>Perimeter</th>\n",
       "      <td>13611.0</td>\n",
       "      <td>855.283459</td>\n",
       "      <td>214.289696</td>\n",
       "      <td>524.736000</td>\n",
       "      <td>703.523500</td>\n",
       "      <td>794.941000</td>\n",
       "      <td>977.213000</td>\n",
       "      <td>1985.370000</td>\n",
       "    </tr>\n",
       "    <tr>\n",
       "      <th>MajorAxisLength</th>\n",
       "      <td>13611.0</td>\n",
       "      <td>320.141867</td>\n",
       "      <td>85.694186</td>\n",
       "      <td>183.601165</td>\n",
       "      <td>253.303633</td>\n",
       "      <td>296.883367</td>\n",
       "      <td>376.495012</td>\n",
       "      <td>738.860153</td>\n",
       "    </tr>\n",
       "    <tr>\n",
       "      <th>MinorAxisLength</th>\n",
       "      <td>13611.0</td>\n",
       "      <td>202.270714</td>\n",
       "      <td>44.970091</td>\n",
       "      <td>122.512653</td>\n",
       "      <td>175.848170</td>\n",
       "      <td>192.431733</td>\n",
       "      <td>217.031741</td>\n",
       "      <td>460.198497</td>\n",
       "    </tr>\n",
       "    <tr>\n",
       "      <th>AspectRation</th>\n",
       "      <td>13611.0</td>\n",
       "      <td>1.583242</td>\n",
       "      <td>0.246678</td>\n",
       "      <td>1.024868</td>\n",
       "      <td>1.432307</td>\n",
       "      <td>1.551124</td>\n",
       "      <td>1.707109</td>\n",
       "      <td>2.430306</td>\n",
       "    </tr>\n",
       "    <tr>\n",
       "      <th>Eccentricity</th>\n",
       "      <td>13611.0</td>\n",
       "      <td>0.750895</td>\n",
       "      <td>0.092002</td>\n",
       "      <td>0.218951</td>\n",
       "      <td>0.715928</td>\n",
       "      <td>0.764441</td>\n",
       "      <td>0.810466</td>\n",
       "      <td>0.911423</td>\n",
       "    </tr>\n",
       "    <tr>\n",
       "      <th>ConvexArea</th>\n",
       "      <td>13611.0</td>\n",
       "      <td>53768.200206</td>\n",
       "      <td>29774.915817</td>\n",
       "      <td>20684.000000</td>\n",
       "      <td>36714.500000</td>\n",
       "      <td>45178.000000</td>\n",
       "      <td>62294.000000</td>\n",
       "      <td>263261.000000</td>\n",
       "    </tr>\n",
       "    <tr>\n",
       "      <th>EquivDiameter</th>\n",
       "      <td>13611.0</td>\n",
       "      <td>253.064220</td>\n",
       "      <td>59.177120</td>\n",
       "      <td>161.243764</td>\n",
       "      <td>215.068003</td>\n",
       "      <td>238.438026</td>\n",
       "      <td>279.446467</td>\n",
       "      <td>569.374358</td>\n",
       "    </tr>\n",
       "    <tr>\n",
       "      <th>Extent</th>\n",
       "      <td>13611.0</td>\n",
       "      <td>0.749733</td>\n",
       "      <td>0.049086</td>\n",
       "      <td>0.555315</td>\n",
       "      <td>0.718634</td>\n",
       "      <td>0.759859</td>\n",
       "      <td>0.786851</td>\n",
       "      <td>0.866195</td>\n",
       "    </tr>\n",
       "    <tr>\n",
       "      <th>Solidity</th>\n",
       "      <td>13611.0</td>\n",
       "      <td>0.987143</td>\n",
       "      <td>0.004660</td>\n",
       "      <td>0.919246</td>\n",
       "      <td>0.985670</td>\n",
       "      <td>0.988283</td>\n",
       "      <td>0.990013</td>\n",
       "      <td>0.994677</td>\n",
       "    </tr>\n",
       "    <tr>\n",
       "      <th>roundness</th>\n",
       "      <td>13611.0</td>\n",
       "      <td>0.873282</td>\n",
       "      <td>0.059520</td>\n",
       "      <td>0.489618</td>\n",
       "      <td>0.832096</td>\n",
       "      <td>0.883157</td>\n",
       "      <td>0.916869</td>\n",
       "      <td>0.990685</td>\n",
       "    </tr>\n",
       "    <tr>\n",
       "      <th>Compactness</th>\n",
       "      <td>13611.0</td>\n",
       "      <td>0.799864</td>\n",
       "      <td>0.061713</td>\n",
       "      <td>0.640577</td>\n",
       "      <td>0.762469</td>\n",
       "      <td>0.801277</td>\n",
       "      <td>0.834270</td>\n",
       "      <td>0.987303</td>\n",
       "    </tr>\n",
       "    <tr>\n",
       "      <th>ShapeFactor1</th>\n",
       "      <td>13611.0</td>\n",
       "      <td>0.006564</td>\n",
       "      <td>0.001128</td>\n",
       "      <td>0.002778</td>\n",
       "      <td>0.005900</td>\n",
       "      <td>0.006645</td>\n",
       "      <td>0.007271</td>\n",
       "      <td>0.010451</td>\n",
       "    </tr>\n",
       "    <tr>\n",
       "      <th>ShapeFactor2</th>\n",
       "      <td>13611.0</td>\n",
       "      <td>0.001716</td>\n",
       "      <td>0.000596</td>\n",
       "      <td>0.000564</td>\n",
       "      <td>0.001154</td>\n",
       "      <td>0.001694</td>\n",
       "      <td>0.002170</td>\n",
       "      <td>0.003665</td>\n",
       "    </tr>\n",
       "    <tr>\n",
       "      <th>ShapeFactor3</th>\n",
       "      <td>13611.0</td>\n",
       "      <td>0.643590</td>\n",
       "      <td>0.098996</td>\n",
       "      <td>0.410339</td>\n",
       "      <td>0.581359</td>\n",
       "      <td>0.642044</td>\n",
       "      <td>0.696006</td>\n",
       "      <td>0.974767</td>\n",
       "    </tr>\n",
       "    <tr>\n",
       "      <th>ShapeFactor4</th>\n",
       "      <td>13611.0</td>\n",
       "      <td>0.995063</td>\n",
       "      <td>0.004366</td>\n",
       "      <td>0.947687</td>\n",
       "      <td>0.993703</td>\n",
       "      <td>0.996386</td>\n",
       "      <td>0.997883</td>\n",
       "      <td>0.999733</td>\n",
       "    </tr>\n",
       "  </tbody>\n",
       "</table>\n",
       "</div>"
      ],
      "text/plain": [
       "                   count          mean           std           min  \\\n",
       "Area             13611.0  53048.284549  29324.095717  20420.000000   \n",
       "Perimeter        13611.0    855.283459    214.289696    524.736000   \n",
       "MajorAxisLength  13611.0    320.141867     85.694186    183.601165   \n",
       "MinorAxisLength  13611.0    202.270714     44.970091    122.512653   \n",
       "AspectRation     13611.0      1.583242      0.246678      1.024868   \n",
       "Eccentricity     13611.0      0.750895      0.092002      0.218951   \n",
       "ConvexArea       13611.0  53768.200206  29774.915817  20684.000000   \n",
       "EquivDiameter    13611.0    253.064220     59.177120    161.243764   \n",
       "Extent           13611.0      0.749733      0.049086      0.555315   \n",
       "Solidity         13611.0      0.987143      0.004660      0.919246   \n",
       "roundness        13611.0      0.873282      0.059520      0.489618   \n",
       "Compactness      13611.0      0.799864      0.061713      0.640577   \n",
       "ShapeFactor1     13611.0      0.006564      0.001128      0.002778   \n",
       "ShapeFactor2     13611.0      0.001716      0.000596      0.000564   \n",
       "ShapeFactor3     13611.0      0.643590      0.098996      0.410339   \n",
       "ShapeFactor4     13611.0      0.995063      0.004366      0.947687   \n",
       "\n",
       "                          25%           50%           75%            max  \n",
       "Area             36328.000000  44652.000000  61332.000000  254616.000000  \n",
       "Perimeter          703.523500    794.941000    977.213000    1985.370000  \n",
       "MajorAxisLength    253.303633    296.883367    376.495012     738.860153  \n",
       "MinorAxisLength    175.848170    192.431733    217.031741     460.198497  \n",
       "AspectRation         1.432307      1.551124      1.707109       2.430306  \n",
       "Eccentricity         0.715928      0.764441      0.810466       0.911423  \n",
       "ConvexArea       36714.500000  45178.000000  62294.000000  263261.000000  \n",
       "EquivDiameter      215.068003    238.438026    279.446467     569.374358  \n",
       "Extent               0.718634      0.759859      0.786851       0.866195  \n",
       "Solidity             0.985670      0.988283      0.990013       0.994677  \n",
       "roundness            0.832096      0.883157      0.916869       0.990685  \n",
       "Compactness          0.762469      0.801277      0.834270       0.987303  \n",
       "ShapeFactor1         0.005900      0.006645      0.007271       0.010451  \n",
       "ShapeFactor2         0.001154      0.001694      0.002170       0.003665  \n",
       "ShapeFactor3         0.581359      0.642044      0.696006       0.974767  \n",
       "ShapeFactor4         0.993703      0.996386      0.997883       0.999733  "
      ]
     },
     "execution_count": 6,
     "metadata": {},
     "output_type": "execute_result"
    }
   ],
   "source": [
    "df.describe().T"
   ]
  },
  {
   "cell_type": "code",
   "execution_count": 7,
   "id": "a0083c58-add8-4540-97a6-05a213371163",
   "metadata": {},
   "outputs": [
    {
     "data": {
      "text/plain": [
       "Area               0\n",
       "Perimeter          0\n",
       "MajorAxisLength    0\n",
       "MinorAxisLength    0\n",
       "AspectRation       0\n",
       "Eccentricity       0\n",
       "ConvexArea         0\n",
       "EquivDiameter      0\n",
       "Extent             0\n",
       "Solidity           0\n",
       "roundness          0\n",
       "Compactness        0\n",
       "ShapeFactor1       0\n",
       "ShapeFactor2       0\n",
       "ShapeFactor3       0\n",
       "ShapeFactor4       0\n",
       "Class              0\n",
       "dtype: int64"
      ]
     },
     "execution_count": 7,
     "metadata": {},
     "output_type": "execute_result"
    }
   ],
   "source": [
    "df.isnull().sum()"
   ]
  },
  {
   "cell_type": "code",
   "execution_count": 8,
   "id": "5f59c9c4-bac2-4930-8b7b-4981440e8594",
   "metadata": {},
   "outputs": [
    {
     "data": {
      "text/plain": [
       "Area               0.0\n",
       "Perimeter          0.0\n",
       "MajorAxisLength    0.0\n",
       "MinorAxisLength    0.0\n",
       "AspectRation       0.0\n",
       "Eccentricity       0.0\n",
       "ConvexArea         0.0\n",
       "EquivDiameter      0.0\n",
       "Extent             0.0\n",
       "Solidity           0.0\n",
       "roundness          0.0\n",
       "Compactness        0.0\n",
       "ShapeFactor1       0.0\n",
       "ShapeFactor2       0.0\n",
       "ShapeFactor3       0.0\n",
       "ShapeFactor4       0.0\n",
       "Class              0.0\n",
       "dtype: float64"
      ]
     },
     "execution_count": 8,
     "metadata": {},
     "output_type": "execute_result"
    }
   ],
   "source": [
    "df.isnull().mean() * 100"
   ]
  },
  {
   "cell_type": "code",
   "execution_count": 9,
   "id": "85cdafa0-3956-4a26-88e3-71a05753a9aa",
   "metadata": {},
   "outputs": [
    {
     "data": {
      "image/png": "[encoded data removed]",
      "text/plain": [
       "<Figure size 2500x1000 with 2 Axes>"
      ]
     },
     "metadata": {},
     "output_type": "display_data"
    }
   ],
   "source": [
    "import missingno as msno\n",
    "\n",
    "ax = msno.matrix(df.sample(len(df)))"
   ]
  },
  {
   "cell_type": "code",
   "execution_count": 10,
   "id": "9df8e078-06d5-4d2a-9154-a34b2e246da0",
   "metadata": {},
   "outputs": [
    {
     "data": {
      "text/plain": [
       "(68, 17)"
      ]
     },
     "execution_count": 10,
     "metadata": {},
     "output_type": "execute_result"
    }
   ],
   "source": [
    "df[df.duplicated()].shape"
   ]
  },
  {
   "cell_type": "markdown",
   "id": "ba963724-192b-407e-bcae-5ff0c98989b0",
   "metadata": {},
   "source": [
    "# DATA PREPARATION"
   ]
  },
  {
   "cell_type": "markdown",
   "id": "2e43dc69-f291-49c4-8423-ddddbb2d929c",
   "metadata": {},
   "source": [
    "**No need:**\n",
    "- Drop Irrelevant Columns\n",
    "- Rename Columns\n",
    "- Replace Values (Syntax Errors)\n",
    "- Handling/Imputing Missing Values\n",
    "- Type Conversion\n",
    "- Handling Outliers\n",
    "- Feature Creation\n",
    "- Text Data Processing\n",
    "- Time Series Features\n",
    "- Feature Selection\n",
    "- Feature Extraction\n",
    "\n",
    "**Could be:** \n",
    "- Handling Duplicate Rows\n",
    "- Variable Encoding\n",
    "- Feature Scaling"
   ]
  },
  {
   "cell_type": "code",
   "execution_count": null,
   "id": "9f97219c-ba9c-4f68-bd89-d9d5d78251b5",
   "metadata": {},
   "outputs": [],
   "source": []
  },
  {
   "cell_type": "code",
   "execution_count": null,
   "id": "f374d66a-790a-4a75-a548-3001c9020a8b",
   "metadata": {},
   "outputs": [],
   "source": []
  },
  {
   "cell_type": "code",
   "execution_count": null,
   "id": "bd8a67dc-0015-4745-971a-c5bdae076114",
   "metadata": {},
   "outputs": [],
   "source": []
  },
  {
   "cell_type": "code",
   "execution_count": null,
   "id": "6b7e7aa6-7d89-4f69-8bbd-7426ac699cf4",
   "metadata": {},
   "outputs": [],
   "source": []
  },
  {
   "cell_type": "code",
   "execution_count": 11,
   "id": "463aa1c4-3e6f-4791-a6ee-1f32caeecf2a",
   "metadata": {},
   "outputs": [],
   "source": [
    "X = df.iloc[:,[0,15]].values"
   ]
  },
  {
   "cell_type": "code",
   "execution_count": 12,
   "id": "074185f1-d60d-4062-aaba-31427220a95f",
   "metadata": {},
   "outputs": [
    {
     "data": {
      "image/png": "[encoded data removed]",
      "text/plain": [
       "<Figure size 640x480 with 1 Axes>"
      ]
     },
     "metadata": {},
     "output_type": "display_data"
    }
   ],
   "source": [
    "#We conduct the Elbow method to select the best number of clusters\n",
    "from sklearn.cluster import KMeans\n",
    "\n",
    "wcss = []\n",
    "for i in range(1,11):\n",
    "    kmeans = KMeans(n_clusters = i, init = 'k-means++', random_state=0)\n",
    "    kmeans.fit(X)\n",
    "    wcss.append(kmeans.inertia_)\n",
    "plt.plot(range(1,11),wcss)\n",
    "plt.title('The Elbow Method')\n",
    "plt.xlabel('Number of Clusters')\n",
    "plt.ylabel('WCSS')\n",
    "plt.show()"
   ]
  },
  {
   "cell_type": "code",
   "execution_count": null,
   "id": "dcf72304-4d8d-4c5e-b749-f921695a62ff",
   "metadata": {},
   "outputs": [],
   "source": []
  }
 ],
 "metadata": {
  "kernelspec": {
   "display_name": "Python 3 (ipykernel)",
   "language": "python",
   "name": "python3"
  },
  "language_info": {
   "codemirror_mode": {
    "name": "ipython",
    "version": 3
   },
   "file_extension": ".py",
   "mimetype": "text/x-python",
   "name": "python",
   "nbconvert_exporter": "python",
   "pygments_lexer": "ipython3",
   "version": "3.12.3"
  }
 },
 "nbformat": 4,
 "nbformat_minor": 5
}
